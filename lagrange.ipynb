{
 "cells": [
  {
   "cell_type": "code",
   "execution_count": 64,
   "id": "b8ec07d6-5bea-45cc-a8ff-b5cb0edba3d7",
   "metadata": {},
   "outputs": [],
   "source": [
    "l=[(5,150),(7,392),(11,1452),(13,2366),(17,5202)]\n",
    "x=[5,7,11,13,17]\n",
    "y=[150,392,1452,2366,5202]"
   ]
  },
  {
   "cell_type": "code",
   "execution_count": 65,
   "id": "060214e5-28f8-4b5e-9285-a7b20ba8e9cb",
   "metadata": {},
   "outputs": [],
   "source": [
    "import seaborn as sns\n",
    "import pandas as pd\n",
    "import matplotlib.pyplot as plt"
   ]
  },
  {
   "cell_type": "code",
   "execution_count": 66,
   "id": "4537065c-831a-45ae-9a01-8927f4ccb409",
   "metadata": {},
   "outputs": [],
   "source": [
    "def interpolate(f, xi,n):\n",
    "\n",
    "    print(f[0][0])\n",
    "    # Initialize result\n",
    "    result = 0.0\n",
    "    for i in range(n):\n",
    "\n",
    "        term = f[i][1]\n",
    "        for j in range(n):\n",
    "            if j != i:\n",
    "                term = term * (xi - f[j][0]) / (f[i][0] - f[j][0])\n",
    "\n",
    "        result += term\n",
    "\n",
    "    return result"
   ]
  },
  {
   "cell_type": "code",
   "execution_count": 67,
   "id": "a206dc37-08ae-4859-a222-657942e1d5e5",
   "metadata": {},
   "outputs": [
    {
     "name": "stdout",
     "output_type": "stream",
     "text": [
      "150\n"
     ]
    }
   ],
   "source": [
    "print(l[0][1])"
   ]
  },
  {
   "cell_type": "code",
   "execution_count": 73,
   "id": "b1e729e9-db03-4a70-ad99-1863242c8185",
   "metadata": {},
   "outputs": [
    {
     "name": "stdout",
     "output_type": "stream",
     "text": [
      "5\n",
      "810.0000000000002\n"
     ]
    }
   ],
   "source": [
    "to = 9\n",
    "clc = print(interpolate(l, to,5))\n"
   ]
  },
  {
   "cell_type": "code",
   "execution_count": 74,
   "id": "7814493e-6c6f-41cb-9d86-8aae59a3c960",
   "metadata": {},
   "outputs": [
    {
     "data": {
      "text/plain": [
       "<matplotlib.collections.PathCollection at 0x1fd3d417200>"
      ]
     },
     "execution_count": 74,
     "metadata": {},
     "output_type": "execute_result"
    },
    {
     "data": {
      "image/png": "[encoded data removed]",
      "text/plain": [
       "<Figure size 640x480 with 1 Axes>"
      ]
     },
     "metadata": {},
     "output_type": "display_data"
    }
   ],
   "source": [
    "plt.scatter(x,y)\n",
    "plt.scatter(to,clc)"
   ]
  },
  {
   "cell_type": "code",
   "execution_count": null,
   "id": "c692a8c1-f2bc-4064-bc6e-7548494f0cfd",
   "metadata": {},
   "outputs": [],
   "source": []
  }
 ],
 "metadata": {
  "kernelspec": {
   "display_name": "Python 3 (ipykernel)",
   "language": "python",
   "name": "python3"
  },
  "language_info": {
   "codemirror_mode": {
    "name": "ipython",
    "version": 3
   },
   "file_extension": ".py",
   "mimetype": "text/x-python",
   "name": "python",
   "nbconvert_exporter": "python",
   "pygments_lexer": "ipython3",
   "version": "3.12.7"
  }
 },
 "nbformat": 4,
 "nbformat_minor": 5
}
