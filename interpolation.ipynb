{
 "cells": [
  {
   "cell_type": "code",
   "execution_count": 1,
   "id": "c47d5faf-ba38-4e99-a628-ca8e3497edb0",
   "metadata": {},
   "outputs": [],
   "source": [
    "import pandas as pd\n",
    "import numpy as np\n",
    "import matplotlib.pyplot as plt\n",
    "import seaborn as sns"
   ]
  },
  {
   "cell_type": "code",
   "execution_count": 2,
   "id": "9862697e-cedf-46b5-bbe5-b735afe2494c",
   "metadata": {},
   "outputs": [
    {
     "data": {
      "text/plain": [
       "<Axes: >"
      ]
     },
     "execution_count": 2,
     "metadata": {},
     "output_type": "execute_result"
    },
    {
     "data": {
      "image/png": "[encoded data removed]",
      "text/plain": [
       "<Figure size 640x480 with 1 Axes>"
      ]
     },
     "metadata": {},
     "output_type": "display_data"
    }
   ],
   "source": [
    "# Sample data\n",
    "x = np.array([100, 150, 200, 250, 300,350,400])\n",
    "y = np.array([10.63, 13.03, 15.04, 16.81, 18.42,19.9,21.27])\n",
    "sns.lineplot(x=x, y=y)"
   ]
  },
  {
   "cell_type": "code",
   "execution_count": 3,
   "id": "c49db724-9c92-47f6-8d87-638a37bbe72c",
   "metadata": {},
   "outputs": [],
   "source": [
    "def forward_difference(y):\n",
    "    n = len(y)\n",
    "    diff_table = np.zeros((n, n))\n",
    "    diff_table[:, 0] = y\n",
    "\n",
    "    # print(diff_table)\n",
    "    # print(\"--------------------------------------\")\n",
    "    # del yn = yn+1-yn\n",
    "    \n",
    "    for j in range(1, n):\n",
    "        for i in range(n - j):\n",
    "            diff_table[i, j] = diff_table[i + 1, j - 1] - diff_table[i, j - 1]\n",
    "    # print(diff_table)\n",
    "    return diff_table"
   ]
  },
  {
   "cell_type": "code",
   "execution_count": 4,
   "id": "8552b702-c669-4628-b06b-77e13c46810a",
   "metadata": {},
   "outputs": [
    {
     "data": {
      "text/plain": [
       "array([[ 1.063e+01,  2.400e+00, -3.900e-01,  1.500e-01, -7.000e-02,\n",
       "         2.000e-02,  2.000e-02],\n",
       "       [ 1.303e+01,  2.010e+00, -2.400e-01,  8.000e-02, -5.000e-02,\n",
       "         4.000e-02,  0.000e+00],\n",
       "       [ 1.504e+01,  1.770e+00, -1.600e-01,  3.000e-02, -1.000e-02,\n",
       "         0.000e+00,  0.000e+00],\n",
       "       [ 1.681e+01,  1.610e+00, -1.300e-01,  2.000e-02,  0.000e+00,\n",
       "         0.000e+00,  0.000e+00],\n",
       "       [ 1.842e+01,  1.480e+00, -1.100e-01,  0.000e+00,  0.000e+00,\n",
       "         0.000e+00,  0.000e+00],\n",
       "       [ 1.990e+01,  1.370e+00,  0.000e+00,  0.000e+00,  0.000e+00,\n",
       "         0.000e+00,  0.000e+00],\n",
       "       [ 2.127e+01,  0.000e+00,  0.000e+00,  0.000e+00,  0.000e+00,\n",
       "         0.000e+00,  0.000e+00]])"
      ]
     },
     "execution_count": 4,
     "metadata": {},
     "output_type": "execute_result"
    }
   ],
   "source": [
    "forward_difference(y)"
   ]
  },
  {
   "cell_type": "code",
   "execution_count": 9,
   "id": "be6a80ea",
   "metadata": {},
   "outputs": [],
   "source": [
    "def fact(n):\n",
    "    if(n==0 or n==1):\n",
    "        return 1\n",
    "    return n*fact(n-1)"
   ]
  },
  {
   "cell_type": "code",
   "execution_count": 10,
   "id": "601ffdda-d04f-42f8-9053-117fbe653460",
   "metadata": {},
   "outputs": [],
   "source": [
    "def nfi(x_data, y_data, atpos):\n",
    "    n = len(x_data)\n",
    "    diff_table = forward_difference(y_data)\n",
    "\n",
    "\n",
    "    lastposin = 0\n",
    "    for d in x_data:\n",
    "        if(atpos <d):\n",
    "            lastposin = (np.where(x_data == d))[0]-1\n",
    "            break\n",
    "\n",
    "    print(x_data[lastposin])\n",
    "        \n",
    "    p =atpos - x_data[lastposin][0]\n",
    "    p /= (x_data[1]-x_data[0])\n",
    "    print(atpos , x_data[lastposin][0])\n",
    "    result = y_data[lastposin]\n",
    "    for i in range(4):\n",
    "        print(p,i)\n",
    "        p = p* (p-i) # basically at any iteration p = p*(p-n)\n",
    "        result += (p * diff_table[0, i]) / fact(i)\n",
    "        print(\"----------\",result)\n",
    "\n",
    "    return result \n",
    "    "
   ]
  },
  {
   "cell_type": "code",
   "execution_count": 11,
   "id": "9e31cd59-8888-41e7-b1bc-ef578350d43b",
   "metadata": {},
   "outputs": [
    {
     "name": "stdout",
     "output_type": "stream",
     "text": [
      "[200]\n",
      "218 200\n",
      "0.36 0\n",
      "---------- [16.417648]\n",
      "0.1296 1\n",
      "---------- [16.14691878]\n",
      "-0.11280384 2\n",
      "---------- [16.10044397]\n",
      "0.23833238631874562 3\n",
      "---------- [16.0839891]\n"
     ]
    },
    {
     "data": {
      "text/plain": [
       "array([16.0839891])"
      ]
     },
     "execution_count": 11,
     "metadata": {},
     "output_type": "execute_result"
    }
   ],
   "source": [
    "nfi(x,y,218)"
   ]
  },
  {
   "cell_type": "code",
   "execution_count": null,
   "id": "cbf8d52f-df51-4d8b-92bf-45fb5a45cb3e",
   "metadata": {},
   "outputs": [],
   "source": []
  }
 ],
 "metadata": {
  "kernelspec": {
   "display_name": "venv",
   "language": "python",
   "name": "python3"
  },
  "language_info": {
   "codemirror_mode": {
    "name": "ipython",
    "version": 3
   },
   "file_extension": ".py",
   "mimetype": "text/x-python",
   "name": "python",
   "nbconvert_exporter": "python",
   "pygments_lexer": "ipython3",
   "version": "3.13.3"
  }
 },
 "nbformat": 4,
 "nbformat_minor": 5
}
