{
 "cells": [
  {
   "cell_type": "code",
   "execution_count": 1,
   "id": "de5d41da-684d-44c0-9b2d-06b32b7ddaa4",
   "metadata": {},
   "outputs": [],
   "source": [
    "import pandas as pd\n",
    "import numpy as np\n",
    "import seaborn as sns\n",
    "import matplotlib.pyplot as plt"
   ]
  },
  {
   "cell_type": "code",
   "execution_count": 2,
   "id": "5e4ff69d-8840-4fb6-b09c-29ffc40a0214",
   "metadata": {},
   "outputs": [],
   "source": [
    "def func(x): # y=x^2-5x+6\n",
    "    return x**2-5*x+6\n",
    "    "
   ]
  },
  {
   "cell_type": "code",
   "execution_count": 9,
   "id": "93f66399-8985-44e3-9270-6b634358520e",
   "metadata": {},
   "outputs": [],
   "source": [
    "# Initial guesss\n",
    "g1, g2 = 0.1,2.5\n",
    "c=0\n",
    "error = 0.001\n",
    "clist = []"
   ]
  },
  {
   "cell_type": "code",
   "execution_count": 10,
   "id": "ec7f3cc7-d7d0-49f4-a597-989eebe5b25d",
   "metadata": {},
   "outputs": [
    {
     "name": "stdout",
     "output_type": "stream",
     "text": [
      "Iteration 1:\n",
      "g1: 0.1 g2: 2.5\n",
      "f(g1): 5.51 f(g2): -0.25\n",
      "Calculated root: 2.3958333333333335\n",
      "Iteration 2:\n",
      "g1: 2.5 g2: 2.3958333333333335\n",
      "f(g1): -0.25 f(g2): -0.23914930555555625\n",
      "Calculated root: 0.09999999999985087\n",
      "Iteration 3:\n",
      "g1: 2.3958333333333335 g2: 0.09999999999985087\n",
      "f(g1): -0.23914930555555625 f(g2): 5.510000000000716\n",
      "Calculated root: 2.3003327787021686\n",
      "Iteration 4:\n",
      "g1: 0.09999999999985087 g2: 2.3003327787021686\n",
      "f(g1): 5.510000000000716 f(g2): -0.21013300073920238\n",
      "Calculated root: 2.2195020481310896\n",
      "Iteration 5:\n",
      "g1: 2.3003327787021686 g2: 2.2195020481310896\n",
      "f(g1): -0.21013300073920238 f(g2): -0.17132089899734737\n",
      "Calculated root: 1.8627062858156487\n",
      "Iteration 6:\n",
      "g1: 2.2195020481310896 g2: 1.8627062858156487\n",
      "f(g1): -0.17132089899734737 f(g2): 0.1561432781388863\n",
      "Calculated root: 2.03283561245286\n",
      "Iteration 7:\n",
      "g1: 1.8627062858156487 g2: 2.03283561245286\n",
      "f(g1): 0.1561432781388863 f(g2): -0.031757435007706114\n",
      "Calculated root: 2.00408175120822\n",
      "Iteration 8:\n",
      "g1: 2.03283561245286 g2: 2.00408175120822\n",
      "f(g1): -0.031757435007706114 f(g2): -0.004065090515294578\n",
      "Calculated root: 1.999860835617064\n",
      "Iteration 9:\n",
      "g1: 2.00408175120822 g2: 1.999860835617064\n",
      "f(g1): -0.004065090515294578 f(g2): 0.00013918374966159774\n",
      "Calculated root: 2.0000005702827774\n",
      "Converged after 9 iterations.\n"
     ]
    }
   ],
   "source": [
    "for i in range(20):\n",
    "    fg1, fg2 = func(g1), func(g2)\n",
    "    \n",
    "    # Calculate the new guess using the Secant method formula\n",
    "    c = g2 - fg2 * (g2 - g1) / (fg2 - fg1)\n",
    "    \n",
    "    # Print details for each iteration\n",
    "    print(f\"Iteration {i+1}:\")\n",
    "    print(\"g1:\", g1, \"g2:\", g2)\n",
    "    print(\"f(g1):\", fg1, \"f(g2):\", fg2)\n",
    "    print(\"Calculated root:\", c)\n",
    "    \n",
    "    # Check for convergence (when the error is less than the desired threshold)\n",
    "    if abs(c - g2) < error:\n",
    "        print(f\"Converged after {i+1} iterations.\")\n",
    "        break\n",
    "    \n",
    "    # Update g1 and g2 for the next iteration\n",
    "    g1, g2 = g2, c\n",
    "    \n",
    "    # Store the root approximation\n",
    "    clist.append(c)\n"
   ]
  },
  {
   "cell_type": "code",
   "execution_count": 11,
   "id": "2a6c77ca-7b66-45ec-ac46-d9c4d18b75a7",
   "metadata": {},
   "outputs": [
    {
     "data": {
      "text/plain": [
       "<Axes: >"
      ]
     },
     "execution_count": 11,
     "metadata": {},
     "output_type": "execute_result"
    },
    {
     "data": {
      "image/png": "[encoded data removed]",
      "text/plain": [
       "<Figure size 640x480 with 1 Axes>"
      ]
     },
     "metadata": {},
     "output_type": "display_data"
    }
   ],
   "source": [
    "\n",
    "sns.lineplot(clist)"
   ]
  },
  {
   "cell_type": "code",
   "execution_count": null,
   "id": "3d4f08fa-7774-4d00-88d9-2a3b28113e25",
   "metadata": {},
   "outputs": [],
   "source": []
  }
 ],
 "metadata": {
  "kernelspec": {
   "display_name": "Python 3 (ipykernel)",
   "language": "python",
   "name": "python3"
  },
  "language_info": {
   "codemirror_mode": {
    "name": "ipython",
    "version": 3
   },
   "file_extension": ".py",
   "mimetype": "text/x-python",
   "name": "python",
   "nbconvert_exporter": "python",
   "pygments_lexer": "ipython3",
   "version": "3.12.7"
  }
 },
 "nbformat": 4,
 "nbformat_minor": 5
}
