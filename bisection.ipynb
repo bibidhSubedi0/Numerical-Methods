{
 "cells": [
  {
   "cell_type": "code",
   "execution_count": 1,
   "id": "5b74a8dc-43bb-4709-960a-787a4811a0ae",
   "metadata": {},
   "outputs": [
    {
     "name": "stdout",
     "output_type": "stream",
     "text": [
      "Hello world\n"
     ]
    }
   ],
   "source": [
    "print(\"Hello world\")"
   ]
  },
  {
   "cell_type": "code",
   "execution_count": 2,
   "id": "814a4bd3-4de6-47dd-9f2a-9a0779803441",
   "metadata": {},
   "outputs": [],
   "source": [
    "import pandas as pd\n",
    "import numpy as np\n",
    "import seaborn as sns\n",
    "import matplotlib.pyplot as plt"
   ]
  },
  {
   "cell_type": "code",
   "execution_count": 3,
   "id": "7b00f047-c951-413b-9d83-7456b95b292d",
   "metadata": {},
   "outputs": [],
   "source": [
    "def func(x): # y=x^2-5x+6\n",
    "    return x**2-5*x+6\n",
    "    "
   ]
  },
  {
   "cell_type": "code",
   "execution_count": 4,
   "id": "dc138a2c-d8de-42d0-a739-7e0b40082478",
   "metadata": {},
   "outputs": [
    {
     "data": {
      "text/plain": [
       "0"
      ]
     },
     "execution_count": 4,
     "metadata": {},
     "output_type": "execute_result"
    }
   ],
   "source": [
    "func(3)"
   ]
  },
  {
   "cell_type": "code",
   "execution_count": 5,
   "id": "eee9066a-9386-42b2-b986-5517b3575f61",
   "metadata": {},
   "outputs": [
    {
     "data": {
      "text/plain": [
       "0"
      ]
     },
     "execution_count": 5,
     "metadata": {},
     "output_type": "execute_result"
    }
   ],
   "source": [
    "func(2)"
   ]
  },
  {
   "cell_type": "code",
   "execution_count": 6,
   "id": "0a343e91-d55a-41d3-9d8b-480e2bf94abe",
   "metadata": {},
   "outputs": [
    {
     "data": {
      "text/plain": [
       "2"
      ]
     },
     "execution_count": 6,
     "metadata": {},
     "output_type": "execute_result"
    }
   ],
   "source": [
    "func(1)"
   ]
  },
  {
   "cell_type": "code",
   "execution_count": 7,
   "id": "2785e27d-0fd5-4f44-899c-26624d3c154b",
   "metadata": {},
   "outputs": [],
   "source": [
    "# Initial guesss\n",
    "g1, g2 = 0.1,2.5\n",
    "c=0\n",
    "error = 0.001\n",
    "clist = []"
   ]
  },
  {
   "cell_type": "code",
   "execution_count": 8,
   "id": "ce8d63df-9d31-4509-8bcc-1f18f36a1dc0",
   "metadata": {
    "scrolled": true
   },
   "outputs": [
    {
     "name": "stdout",
     "output_type": "stream",
     "text": [
      "Extreimites:  0.1 2.5\n",
      "Functional values:  5.51 -0.25\n",
      "Calculatd root:  1.3\n",
      "g2 changed\n",
      "Extreimites:  1.3 2.5\n",
      "Functional values:  1.1900000000000004 -0.25\n",
      "Calculatd root:  1.9\n",
      "g2 changed\n",
      "Extreimites:  1.9 2.5\n",
      "Functional values:  0.10999999999999943 -0.25\n",
      "Calculatd root:  2.2\n",
      "g1 changed\n",
      "Extreimites:  1.9 2.2\n",
      "Functional values:  0.10999999999999943 -0.15999999999999925\n",
      "Calculatd root:  2.05\n",
      "g1 changed\n",
      "Extreimites:  1.9 2.05\n",
      "Functional values:  0.10999999999999943 -0.04750000000000032\n",
      "Calculatd root:  1.9749999999999999\n",
      "g2 changed\n",
      "Extreimites:  1.9749999999999999 2.05\n",
      "Functional values:  0.025624999999999787 -0.04750000000000032\n",
      "Calculatd root:  2.0124999999999997\n",
      "g1 changed\n",
      "Extreimites:  1.9749999999999999 2.0124999999999997\n",
      "Functional values:  0.025624999999999787 -0.012343749999999432\n",
      "Calculatd root:  1.99375\n",
      "g2 changed\n",
      "Extreimites:  1.99375 2.0124999999999997\n",
      "Functional values:  0.006289062499999609 -0.012343749999999432\n",
      "Calculatd root:  2.003125\n",
      "g1 changed\n",
      "Extreimites:  1.99375 2.003125\n",
      "Functional values:  0.006289062499999609 -0.0031152343750004974\n",
      "Calculatd root:  1.9984374999999999\n",
      "g2 changed\n",
      "Extreimites:  1.9984374999999999 2.003125\n",
      "Functional values:  0.0015649414062490763 -0.0031152343750004974\n",
      "Calculatd root:  2.0007812499999997\n",
      "g1 changed\n",
      "Extreimites:  1.9984374999999999 2.0007812499999997\n",
      "Functional values:  0.0015649414062490763 -0.0007806396484371092\n",
      "Calculatd root:  1.999609375\n",
      "g2 changed\n",
      "Extreimites:  1.999609375 2.0007812499999997\n",
      "Functional values:  0.00039077758789041184 -0.0007806396484371092\n",
      "Calculatd root:  2.0001953125\n",
      "g1 changed\n",
      "Extreimites:  1.999609375 2.0001953125\n",
      "Functional values:  0.00039077758789041184 -0.00019527435302801877\n",
      "Calculatd root:  1.9999023437499999\n",
      "g2 changed\n",
      "Extreimites:  1.9999023437499999 2.0001953125\n",
      "Functional values:  9.766578674241799e-05 -0.00019527435302801877\n",
      "Calculatd root:  2.0000488281249997\n",
      "g1 changed\n",
      "Extreimites:  1.9999023437499999 2.0000488281249997\n",
      "Functional values:  9.766578674241799e-05 -4.882574081310764e-05\n",
      "Calculatd root:  1.9999755859375\n",
      "g2 changed\n",
      "Extreimites:  1.9999755859375 2.0000488281249997\n",
      "Functional values:  2.441465854552405e-05 -4.882574081310764e-05\n",
      "Calculatd root:  2.00001220703125\n",
      "g1 changed\n",
      "Extreimites:  1.9999755859375 2.00001220703125\n",
      "Functional values:  2.441465854552405e-05 -1.2206882239240713e-05\n",
      "Calculatd root:  1.9999938964843749\n",
      "g2 changed\n",
      "Extreimites:  1.9999938964843749 2.00001220703125\n",
      "Functional values:  6.1035528773345504e-06 -1.2206882239240713e-05\n",
      "Calculatd root:  2.0000030517578122\n",
      "g1 changed\n",
      "Extreimites:  1.9999938964843749 2.0000030517578122\n",
      "Functional values:  6.1035528773345504e-06 -3.0517484983505483e-06\n",
      "Calculatd root:  1.9999984741210937\n",
      "g2 changed\n",
      "Extreimites:  1.9999984741210937 2.0000030517578122\n",
      "Functional values:  1.525881234698545e-06 -3.0517484983505483e-06\n",
      "Calculatd root:  2.000000762939453\n",
      "g1 changed\n"
     ]
    }
   ],
   "source": [
    "# while(abs((c-g1)/g1)>error):\n",
    "for i in range(20):\n",
    "    fg1, fg2 = func(g1), func(g2)\n",
    "    print(\"Extreimites: \", g1, g2)\n",
    "    print(\"Functional values: \", fg1, fg2)\n",
    "    \n",
    "    if fg1*fg2 <0:\n",
    "        c=(g1+g2)/2\n",
    "        print(\"Calculatd root: \",c)\n",
    "    \n",
    "    if(fg2 * func(c) <0):\n",
    "        g1=c\n",
    "        print(\"g2 changed\")\n",
    "    else:\n",
    "        g2=c\n",
    "        print(\"g1 changed\")\n",
    "\n",
    "    clist.append(c)\n"
   ]
  },
  {
   "cell_type": "code",
   "execution_count": 15,
   "id": "621696eb-4664-47d1-89f6-0bd0351bdc1d",
   "metadata": {},
   "outputs": [
    {
     "data": {
      "text/plain": [
       "<Axes: >"
      ]
     },
     "execution_count": 15,
     "metadata": {},
     "output_type": "execute_result"
    },
    {
     "data": {
      "image/png": "[encoded data removed]",
      "text/plain": [
       "<Figure size 640x480 with 1 Axes>"
      ]
     },
     "metadata": {},
     "output_type": "display_data"
    }
   ],
   "source": [
    "\n",
    "sns.lineplot(clist)"
   ]
  },
  {
   "cell_type": "code",
   "execution_count": null,
   "id": "5668e02b-8005-4943-bc46-104bdb0d5e6a",
   "metadata": {},
   "outputs": [],
   "source": []
  }
 ],
 "metadata": {
  "kernelspec": {
   "display_name": "Python 3 (ipykernel)",
   "language": "python",
   "name": "python3"
  },
  "language_info": {
   "codemirror_mode": {
    "name": "ipython",
    "version": 3
   },
   "file_extension": ".py",
   "mimetype": "text/x-python",
   "name": "python",
   "nbconvert_exporter": "python",
   "pygments_lexer": "ipython3",
   "version": "3.12.7"
  }
 },
 "nbformat": 4,
 "nbformat_minor": 5
}
